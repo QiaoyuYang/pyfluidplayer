{
 "cells": [
  {
   "cell_type": "code",
   "execution_count": 4,
   "metadata": {},
   "outputs": [],
   "source": [
    "import fluidsynth\n",
    "import numpy\n",
    "import pyaudio\n",
    "import wave\n",
    "import time\n",
    "\n",
    "CHANNELS = 1\n",
    "RATE = 44100\n",
    "FORMAT = pyaudio.paInt16"
   ]
  },
  {
   "cell_type": "markdown",
   "metadata": {},
   "source": [
    "### Play Single Note"
   ]
  },
  {
   "cell_type": "code",
   "execution_count": 5,
   "metadata": {},
   "outputs": [],
   "source": [
    "fs = fluidsynth.Synth()\n",
    "sfid = fs.sfload(\"soundfonts/Trombone.sf2\")"
   ]
  },
  {
   "cell_type": "code",
   "execution_count": 6,
   "metadata": {},
   "outputs": [],
   "source": [
    "fs.start()\n",
    "\n",
    "fs.program_select(0, sfid, 0, 0)\n",
    "\n",
    "fs.noteon(0, 60, 30)\n",
    "\n",
    "time.sleep(1.0)\n",
    "\n",
    "fs.noteoff(0, 60)\n",
    "\n",
    "time.sleep(1.0)\n",
    "\n",
    "fs.delete()"
   ]
  },
  {
   "cell_type": "markdown",
   "metadata": {},
   "source": [
    "### Play a MIDI file"
   ]
  },
  {
   "cell_type": "code",
   "execution_count": 12,
   "metadata": {},
   "outputs": [
    {
     "name": "stderr",
     "output_type": "stream",
     "text": [
      "fluidsynth: Ignoring unrecognized meta event type 0x20\n",
      "fluidsynth: warning: Instrument not found on channel 8 [bank=0 prog=43], substituted [bank=0 prog=0]\n"
     ]
    },
    {
     "name": "stdout",
     "output_type": "stream",
     "text": [
      "Starting playback\n"
     ]
    }
   ],
   "source": [
    "pa = pyaudio.PyAudio()\n",
    "strm = pa.open(\n",
    "    format = pyaudio.paInt16,\n",
    "    channels = 2,\n",
    "    rate = 44100,\n",
    "    output = True)\n",
    "\n",
    "fs = fluidsynth.Synth()\n",
    "sfid = fs.sfload(\"soundfonts/Trombone.sf2\")\n",
    "fs.custom_router_callback = None\n",
    "fs.program_select(0, sfid, 0, 0)\n",
    "\n",
    "fs.play_midi_file(\"bc_no2_mv1/bc_no2_mv1_cello.mid\")\n",
    "\n",
    "# Generate 10 seconds of audio into s\n",
    "s = []\n",
    "for _ in range(10):\n",
    "    s = numpy.append(s, fs.get_samples(44100))\n",
    "    if fluidsynth.fluid_player_get_status(fs.player) != fluidsynth.FLUID_PLAYER_PLAYING:\n",
    "        break\n",
    "\n",
    "fs.delete()\n",
    "\n",
    "samps = fluidsynth.raw_audio_string(s)\n",
    "print('Starting playback')\n",
    "strm.write(samps)"
   ]
  }
 ],
 "metadata": {
  "kernelspec": {
   "display_name": "fluidsynth",
   "language": "python",
   "name": "python3"
  },
  "language_info": {
   "codemirror_mode": {
    "name": "ipython",
    "version": 3
   },
   "file_extension": ".py",
   "mimetype": "text/x-python",
   "name": "python",
   "nbconvert_exporter": "python",
   "pygments_lexer": "ipython3",
   "version": "3.11.10"
  }
 },
 "nbformat": 4,
 "nbformat_minor": 2
}
