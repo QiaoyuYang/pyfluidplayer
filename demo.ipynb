{
 "cells": [
  {
   "cell_type": "code",
   "execution_count": 2,
   "metadata": {},
   "outputs": [],
   "source": [
    "import fluidsynth\n",
    "import numpy\n",
    "import pyaudio"
   ]
  },
  {
   "cell_type": "markdown",
   "metadata": {},
   "source": [
    "### Play Single Note"
   ]
  },
  {
   "cell_type": "code",
   "execution_count": 3,
   "metadata": {},
   "outputs": [],
   "source": [
    "fs = fluidsynth.Synth()\n",
    "sfid = fs.sfload(\"soundfonts/Trombone.sf2\")"
   ]
  },
  {
   "cell_type": "code",
   "execution_count": 4,
   "metadata": {},
   "outputs": [
    {
     "name": "stdout",
     "output_type": "stream",
     "text": [
      "705600\n",
      "Starting playback\n"
     ]
    }
   ],
   "source": [
    "pa = pyaudio.PyAudio()\n",
    "strm = pa.open(\n",
    "    format = pyaudio.paInt16,\n",
    "    channels = 2, \n",
    "    rate = 44100, \n",
    "    output = True)\n",
    "\n",
    "s = []\n",
    "\n",
    "# Initial silence is 1 second\n",
    "s = numpy.append(s, fs.get_samples(44100 * 1))\n",
    "\n",
    "fs.program_select(0, sfid, 0, 0)\n",
    "\n",
    "fs.noteon(0, 62, 30)\n",
    "\n",
    "\n",
    "# Chord is held for 2 seconds\n",
    "s = numpy.append(s, fs.get_samples(44100 * 2))\n",
    "\n",
    "fs.noteoff(0, 62)\n",
    "\n",
    "\n",
    "# Decay of chord is held for 1 second\n",
    "s = numpy.append(s, fs.get_samples(44100 * 1))\n",
    "\n",
    "fs.delete()\n",
    "\n",
    "samps = fluidsynth.raw_audio_string(s)\n",
    "\n",
    "print(len(samps))\n",
    "print('Starting playback')\n",
    "strm.write(samps)"
   ]
  },
  {
   "cell_type": "code",
   "execution_count": 5,
   "metadata": {},
   "outputs": [
    {
     "data": {
      "text/plain": [
       "0"
      ]
     },
     "execution_count": 5,
     "metadata": {},
     "output_type": "execute_result"
    }
   ],
   "source": [
    "pa = pyaudio.PyAudio()\n",
    "strm = pa.open(\n",
    "    format = pyaudio.paInt16,\n",
    "    channels = 2,\n",
    "    rate = 44100,\n",
    "    output = True)\n",
    "\n",
    "fs = fluidsynth.Synth()\n",
    "fs.custom_router_callback = None\n",
    "\n",
    "sfid_trombone = fs.sfload(\"soundfonts/Trombone.sf2\")\n",
    "sfid_flute = fs.sfload(\"soundfonts/Flute.sf2\")\n",
    "sfid_oboe = fs.sfload(\"soundfonts/Oboe.sf2\")\n",
    "sfid_violin = fs.sfload(\"soundfonts/Violin.sf2\")\n",
    "sfid_violinEnsemble = fs.sfload(\"soundfonts/ViolinEnsemble.sf2\")\n",
    "sfid_viola = fs.sfload(\"soundfonts/Viola.sf2\")\n",
    "sfid_doubleBass = fs.sfload(\"soundfonts/DoubleBass.sf2\")\n",
    "sfid_cello = fs.sfload(\"soundfonts/Cello.sf2\")\n",
    "\n",
    "fs.program_select(0, sfid_trombone, 0, 0)\n",
    "fs.program_select(1, sfid_flute, 0, 0)\n",
    "fs.program_select(2, sfid_oboe, 0, 0)\n",
    "fs.program_select(3, sfid_violin, 0, 0)\n",
    "fs.program_select(4, sfid_violinEnsemble, 0, 0)\n",
    "fs.program_select(5, sfid_violinEnsemble, 0, 0)\n",
    "fs.program_select(6, sfid_viola, 0, 0)\n",
    "fs.program_select(7, sfid_doubleBass, 0, 0)\n",
    "fs.program_select(8, sfid_cello, 0, 0)"
   ]
  },
  {
   "cell_type": "code",
   "execution_count": 6,
   "metadata": {},
   "outputs": [
    {
     "name": "stderr",
     "output_type": "stream",
     "text": [
      "fluidsynth: Ignoring unrecognized meta event type 0x20\n",
      "fluidsynth: Ignoring unrecognized meta event type 0x20\n",
      "fluidsynth: Ignoring unrecognized meta event type 0x20\n",
      "fluidsynth: Ignoring unrecognized meta event type 0x20\n",
      "fluidsynth: Ignoring unrecognized meta event type 0x20\n",
      "fluidsynth: Ignoring unrecognized meta event type 0x20\n",
      "fluidsynth: Ignoring unrecognized meta event type 0x20\n",
      "fluidsynth: Ignoring unrecognized meta event type 0x20\n",
      "fluidsynth: Ignoring unrecognized meta event type 0x20\n",
      "fluidsynth: warning: Instrument not found on channel 0 [bank=0 prog=56], substituted [bank=0 prog=0]\n",
      "fluidsynth: warning: Instrument not found on channel 1 [bank=0 prog=90], substituted [bank=0 prog=0]\n",
      "fluidsynth: warning: Instrument not found on channel 2 [bank=0 prog=41], substituted [bank=0 prog=0]\n",
      "fluidsynth: warning: Instrument not found on channel 6 [bank=0 prog=42], substituted [bank=0 prog=0]\n",
      "fluidsynth: warning: Instrument not found on channel 4 [bank=0 prog=48], substituted [bank=0 prog=0]\n",
      "fluidsynth: warning: Instrument not found on channel 3 [bank=0 prog=41], substituted [bank=0 prog=0]\n",
      "fluidsynth: warning: Instrument not found on channel 5 [bank=0 prog=49], substituted [bank=0 prog=0]\n",
      "fluidsynth: warning: Instrument not found on channel 7 [bank=0 prog=42], substituted [bank=0 prog=0]\n",
      "fluidsynth: warning: Instrument not found on channel 8 [bank=0 prog=43], substituted [bank=0 prog=0]\n"
     ]
    },
    {
     "name": "stdout",
     "output_type": "stream",
     "text": [
      "Starting playback\n"
     ]
    }
   ],
   "source": [
    "fs.play_midi_file(\"bc_no2_mv1/bv_no2_mv1.mid\")\n",
    "\n",
    "# Generate 10 seconds of audio into s\n",
    "s = []\n",
    "for _ in range(10):\n",
    "    s = numpy.append(s, fs.get_samples(44100))\n",
    "    if fluidsynth.fluid_player_get_status(fs.player) != fluidsynth.FLUID_PLAYER_PLAYING:\n",
    "        break\n",
    "\n",
    "fs.delete()\n",
    "\n",
    "samps = fluidsynth.raw_audio_string(s)\n",
    "print('Starting playback')\n",
    "strm.write(samps)"
   ]
  }
 ],
 "metadata": {
  "kernelspec": {
   "display_name": "fluidsynth",
   "language": "python",
   "name": "python3"
  },
  "language_info": {
   "codemirror_mode": {
    "name": "ipython",
    "version": 3
   },
   "file_extension": ".py",
   "mimetype": "text/x-python",
   "name": "python",
   "nbconvert_exporter": "python",
   "pygments_lexer": "ipython3",
   "version": "3.11.10"
  }
 },
 "nbformat": 4,
 "nbformat_minor": 2
}
